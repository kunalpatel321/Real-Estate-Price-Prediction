{
  "nbformat": 4,
  "nbformat_minor": 0,
  "metadata": {
    "colab": {
      "name": "Assi.ipynb",
      "provenance": [],
      "collapsed_sections": []
    },
    "kernelspec": {
      "name": "python3",
      "display_name": "Python 3"
    },
    "language_info": {
      "name": "python"
    }
  },
  "cells": [
    {
      "cell_type": "code",
      "metadata": {
        "id": "dAlSmIwQ8jWX"
      },
      "source": [
        "import string\n",
        "import numpy as np\n",
        "import pandas as pd\n",
        "import seaborn as sns\n",
        "import matplotlib.pyplot as plt\n",
        "from collections import Counter\n",
        "%matplotlib inline\n"
      ],
      "execution_count": null,
      "outputs": []
    },
    {
      "cell_type": "code",
      "metadata": {
        "id": "ryX6yr_09kI8"
      },
      "source": [
        "df=pd.read_excel('Test.xlsx')"
      ],
      "execution_count": 174,
      "outputs": []
    },
    {
      "cell_type": "markdown",
      "metadata": {
        "id": "B1KMd9r8Hwl-"
      },
      "source": [
        "**1. Data Cleaning**"
      ]
    },
    {
      "cell_type": "code",
      "metadata": {
        "colab": {
          "base_uri": "https://localhost:8080/",
          "height": 299
        },
        "id": "8pIIoRH_4Dwc",
        "outputId": "faa61019-cffa-4470-e317-95d7ac38dd0d"
      },
      "source": [
        "# This will return us the top 5 values of the DataFrame \n",
        "df.head()   "
      ],
      "execution_count": 153,
      "outputs": [
        {
          "output_type": "execute_result",
          "data": {
            "text/html": [
              "<div>\n",
              "<style scoped>\n",
              "    .dataframe tbody tr th:only-of-type {\n",
              "        vertical-align: middle;\n",
              "    }\n",
              "\n",
              "    .dataframe tbody tr th {\n",
              "        vertical-align: top;\n",
              "    }\n",
              "\n",
              "    .dataframe thead th {\n",
              "        text-align: right;\n",
              "    }\n",
              "</style>\n",
              "<table border=\"1\" class=\"dataframe\">\n",
              "  <thead>\n",
              "    <tr style=\"text-align: right;\">\n",
              "      <th></th>\n",
              "      <th>evnt_dt</th>\n",
              "      <th>page_name</th>\n",
              "      <th>EXPERIMENTATION_EXPERIENCE</th>\n",
              "      <th>EXPERIMENTATION_TREATMENT</th>\n",
              "      <th>page_country</th>\n",
              "      <th>link_name</th>\n",
              "      <th>devc_type</th>\n",
              "      <th>referring_url</th>\n",
              "      <th>evnt_page_url</th>\n",
              "      <th>utm_source</th>\n",
              "      <th>utm_medium</th>\n",
              "      <th>utm_campaign</th>\n",
              "      <th>utm_content</th>\n",
              "      <th>Sessions</th>\n",
              "      <th>Impressions</th>\n",
              "      <th>Total_Clicks</th>\n",
              "    </tr>\n",
              "  </thead>\n",
              "  <tbody>\n",
              "    <tr>\n",
              "      <th>0</th>\n",
              "      <td>2021-02-20</td>\n",
              "      <td>Dummy1</td>\n",
              "      <td>103319.0</td>\n",
              "      <td>113155</td>\n",
              "      <td>us</td>\n",
              "      <td>#</td>\n",
              "      <td>Mobile Phone</td>\n",
              "      <td>https://f9ef11867e527110601bc9d5cd456735.safef...</td>\n",
              "      <td>https://www.amazon.com/us/business</td>\n",
              "      <td>#</td>\n",
              "      <td>#</td>\n",
              "      <td>#</td>\n",
              "      <td>#</td>\n",
              "      <td>1</td>\n",
              "      <td>1</td>\n",
              "      <td>0</td>\n",
              "    </tr>\n",
              "    <tr>\n",
              "      <th>1</th>\n",
              "      <td>2021-02-19</td>\n",
              "      <td>Dummy2</td>\n",
              "      <td>103319.0</td>\n",
              "      <td>113154</td>\n",
              "      <td>us</td>\n",
              "      <td>#</td>\n",
              "      <td>Desktop</td>\n",
              "      <td>#</td>\n",
              "      <td>https://www.amazon.com/us/enterprise/streamlin...</td>\n",
              "      <td>Banner</td>\n",
              "      <td>paid</td>\n",
              "      <td>Streamline_Operations</td>\n",
              "      <td>b300x600</td>\n",
              "      <td>1</td>\n",
              "      <td>1</td>\n",
              "      <td>0</td>\n",
              "    </tr>\n",
              "    <tr>\n",
              "      <th>2</th>\n",
              "      <td>2021-02-20</td>\n",
              "      <td>Dummy3</td>\n",
              "      <td>NaN</td>\n",
              "      <td>113155</td>\n",
              "      <td>us</td>\n",
              "      <td>CommercePlatformEnhancedFooter-Link-SMB-Gettin...</td>\n",
              "      <td>Mobile Phone</td>\n",
              "      <td>https://www.amazon.com/webapps/mpp/enterprise</td>\n",
              "      <td>https://www.amazon.com/us/business/getting-sta...</td>\n",
              "      <td>#</td>\n",
              "      <td>#</td>\n",
              "      <td>#</td>\n",
              "      <td>#</td>\n",
              "      <td>2</td>\n",
              "      <td>2</td>\n",
              "      <td>0</td>\n",
              "    </tr>\n",
              "    <tr>\n",
              "      <th>3</th>\n",
              "      <td>2021-02-20</td>\n",
              "      <td>Dummy4</td>\n",
              "      <td>NaN</td>\n",
              "      <td>113155</td>\n",
              "      <td>us</td>\n",
              "      <td>#currency_conversion</td>\n",
              "      <td>Mobile</td>\n",
              "      <td>#</td>\n",
              "      <td>https://www.amazon.com/us/business</td>\n",
              "      <td>#</td>\n",
              "      <td>#</td>\n",
              "      <td>#</td>\n",
              "      <td>#</td>\n",
              "      <td>1</td>\n",
              "      <td>1</td>\n",
              "      <td>0</td>\n",
              "    </tr>\n",
              "    <tr>\n",
              "      <th>4</th>\n",
              "      <td>2021-02-20</td>\n",
              "      <td>Dummy5</td>\n",
              "      <td>103319.0</td>\n",
              "      <td>113155</td>\n",
              "      <td>us</td>\n",
              "      <td>#</td>\n",
              "      <td>Mobile Phone</td>\n",
              "      <td>https://en.kueez.com/</td>\n",
              "      <td>https://www.amazon.com/us/business/accept-paym...</td>\n",
              "      <td>#</td>\n",
              "      <td>#</td>\n",
              "      <td>#</td>\n",
              "      <td>#</td>\n",
              "      <td>14</td>\n",
              "      <td>14</td>\n",
              "      <td>0</td>\n",
              "    </tr>\n",
              "  </tbody>\n",
              "</table>\n",
              "</div>"
            ],
            "text/plain": [
              "     evnt_dt page_name  ...  Impressions  Total_Clicks\n",
              "0 2021-02-20    Dummy1  ...            1             0\n",
              "1 2021-02-19    Dummy2  ...            1             0\n",
              "2 2021-02-20    Dummy3  ...            2             0\n",
              "3 2021-02-20    Dummy4  ...            1             0\n",
              "4 2021-02-20    Dummy5  ...           14             0\n",
              "\n",
              "[5 rows x 16 columns]"
            ]
          },
          "metadata": {
            "tags": []
          },
          "execution_count": 153
        }
      ]
    },
    {
      "cell_type": "code",
      "metadata": {
        "colab": {
          "base_uri": "https://localhost:8080/"
        },
        "id": "M8tm9aSlDPYw",
        "outputId": "e94917b1-a61b-4eec-8f9c-1f5bc40a88e3"
      },
      "source": [
        "# This will give us the nan values present in DataFrame\n",
        "print(df.isnull().sum())   "
      ],
      "execution_count": 175,
      "outputs": [
        {
          "output_type": "stream",
          "text": [
            "evnt_dt                       0\n",
            "page_name                     0\n",
            "EXPERIMENTATION_EXPERIENCE    2\n",
            "EXPERIMENTATION_TREATMENT     0\n",
            "page_country                  0\n",
            "link_name                     0\n",
            "devc_type                     0\n",
            "referring_url                 0\n",
            "evnt_page_url                 0\n",
            "utm_source                    0\n",
            "utm_medium                    0\n",
            "utm_campaign                  0\n",
            "utm_content                   0\n",
            "Sessions                      0\n",
            "Impressions                   0\n",
            "Total_Clicks                  0\n",
            "dtype: int64\n"
          ],
          "name": "stdout"
        }
      ]
    },
    {
      "cell_type": "markdown",
      "metadata": {
        "id": "hY78g0idDkiU"
      },
      "source": [
        "As we can see that our DataFrame has the **Nan** so we will write a function to remove **Nan** Values\n",
        "\n"
      ]
    },
    {
      "cell_type": "code",
      "metadata": {
        "id": "HoJfSXBw4V2V"
      },
      "source": [
        "#This function will remove the nan values from the DataFrame\n",
        "\n",
        "def drop_nan(df_name):\n",
        "  df_name=df_name.dropna()\n",
        "  return df_name\n"
      ],
      "execution_count": 176,
      "outputs": []
    },
    {
      "cell_type": "markdown",
      "metadata": {
        "id": "XXCzFedrEDIz"
      },
      "source": [
        "As we can see our function has removed all Nan Values "
      ]
    },
    {
      "cell_type": "code",
      "metadata": {
        "colab": {
          "base_uri": "https://localhost:8080/"
        },
        "id": "Cqgr-OTa4DyW",
        "outputId": "6122bef2-64aa-4eef-e263-aad4fdb242c4"
      },
      "source": [
        "df=drop_nan(df)   # drop_nan()\n",
        "df.isnull().sum()"
      ],
      "execution_count": 177,
      "outputs": [
        {
          "output_type": "execute_result",
          "data": {
            "text/plain": [
              "evnt_dt                       0\n",
              "page_name                     0\n",
              "EXPERIMENTATION_EXPERIENCE    0\n",
              "EXPERIMENTATION_TREATMENT     0\n",
              "page_country                  0\n",
              "link_name                     0\n",
              "devc_type                     0\n",
              "referring_url                 0\n",
              "evnt_page_url                 0\n",
              "utm_source                    0\n",
              "utm_medium                    0\n",
              "utm_campaign                  0\n",
              "utm_content                   0\n",
              "Sessions                      0\n",
              "Impressions                   0\n",
              "Total_Clicks                  0\n",
              "dtype: int64"
            ]
          },
          "metadata": {
            "tags": []
          },
          "execution_count": 177
        }
      ]
    },
    {
      "cell_type": "markdown",
      "metadata": {
        "id": "qIzZUVWRECm5"
      },
      "source": [
        "We want to convert the Default date format **YY-MM-DD**"
      ]
    },
    {
      "cell_type": "code",
      "metadata": {
        "id": "QOdSm9Qd4D1j"
      },
      "source": [
        "def convert_date(df_name):\n",
        "  df_name.evnt_dt.apply(lambda x: x.strftime('%Y%m%d')).astype(int)\n",
        "  return df_name"
      ],
      "execution_count": 157,
      "outputs": []
    },
    {
      "cell_type": "code",
      "metadata": {
        "colab": {
          "base_uri": "https://localhost:8080/",
          "height": 299
        },
        "id": "be71rsPn4D4g",
        "outputId": "31fdc95c-4e7c-4a7b-bc9f-f00e2d17b4bd"
      },
      "source": [
        "df=convert_date(df)  # convert_date()\n",
        "df.head()"
      ],
      "execution_count": 158,
      "outputs": [
        {
          "output_type": "execute_result",
          "data": {
            "text/html": [
              "<div>\n",
              "<style scoped>\n",
              "    .dataframe tbody tr th:only-of-type {\n",
              "        vertical-align: middle;\n",
              "    }\n",
              "\n",
              "    .dataframe tbody tr th {\n",
              "        vertical-align: top;\n",
              "    }\n",
              "\n",
              "    .dataframe thead th {\n",
              "        text-align: right;\n",
              "    }\n",
              "</style>\n",
              "<table border=\"1\" class=\"dataframe\">\n",
              "  <thead>\n",
              "    <tr style=\"text-align: right;\">\n",
              "      <th></th>\n",
              "      <th>evnt_dt</th>\n",
              "      <th>page_name</th>\n",
              "      <th>EXPERIMENTATION_EXPERIENCE</th>\n",
              "      <th>EXPERIMENTATION_TREATMENT</th>\n",
              "      <th>page_country</th>\n",
              "      <th>link_name</th>\n",
              "      <th>devc_type</th>\n",
              "      <th>referring_url</th>\n",
              "      <th>evnt_page_url</th>\n",
              "      <th>utm_source</th>\n",
              "      <th>utm_medium</th>\n",
              "      <th>utm_campaign</th>\n",
              "      <th>utm_content</th>\n",
              "      <th>Sessions</th>\n",
              "      <th>Impressions</th>\n",
              "      <th>Total_Clicks</th>\n",
              "    </tr>\n",
              "  </thead>\n",
              "  <tbody>\n",
              "    <tr>\n",
              "      <th>0</th>\n",
              "      <td>2021-02-20</td>\n",
              "      <td>Dummy1</td>\n",
              "      <td>103319.0</td>\n",
              "      <td>113155</td>\n",
              "      <td>us</td>\n",
              "      <td>#</td>\n",
              "      <td>Mobile Phone</td>\n",
              "      <td>https://f9ef11867e527110601bc9d5cd456735.safef...</td>\n",
              "      <td>https://www.amazon.com/us/business</td>\n",
              "      <td>#</td>\n",
              "      <td>#</td>\n",
              "      <td>#</td>\n",
              "      <td>#</td>\n",
              "      <td>1</td>\n",
              "      <td>1</td>\n",
              "      <td>0</td>\n",
              "    </tr>\n",
              "    <tr>\n",
              "      <th>1</th>\n",
              "      <td>2021-02-19</td>\n",
              "      <td>Dummy2</td>\n",
              "      <td>103319.0</td>\n",
              "      <td>113154</td>\n",
              "      <td>us</td>\n",
              "      <td>#</td>\n",
              "      <td>Desktop</td>\n",
              "      <td>#</td>\n",
              "      <td>https://www.amazon.com/us/enterprise/streamlin...</td>\n",
              "      <td>Banner</td>\n",
              "      <td>paid</td>\n",
              "      <td>Streamline_Operations</td>\n",
              "      <td>b300x600</td>\n",
              "      <td>1</td>\n",
              "      <td>1</td>\n",
              "      <td>0</td>\n",
              "    </tr>\n",
              "    <tr>\n",
              "      <th>4</th>\n",
              "      <td>2021-02-20</td>\n",
              "      <td>Dummy5</td>\n",
              "      <td>103319.0</td>\n",
              "      <td>113155</td>\n",
              "      <td>us</td>\n",
              "      <td>#</td>\n",
              "      <td>Mobile Phone</td>\n",
              "      <td>https://en.kueez.com/</td>\n",
              "      <td>https://www.amazon.com/us/business/accept-paym...</td>\n",
              "      <td>#</td>\n",
              "      <td>#</td>\n",
              "      <td>#</td>\n",
              "      <td>#</td>\n",
              "      <td>14</td>\n",
              "      <td>14</td>\n",
              "      <td>0</td>\n",
              "    </tr>\n",
              "    <tr>\n",
              "      <th>5</th>\n",
              "      <td>2021-02-20</td>\n",
              "      <td>Dummy6</td>\n",
              "      <td>103319.0</td>\n",
              "      <td>113154</td>\n",
              "      <td>43</td>\n",
              "      <td>#</td>\n",
              "      <td>Mobile Phone</td>\n",
              "      <td>https://duckduckgo.com</td>\n",
              "      <td>https://www.amazon.com/business</td>\n",
              "      <td>bing</td>\n",
              "      <td>cpc</td>\n",
              "      <td>BUS_TM_PROSP_NA_US_EN_B_SEM_MERC_SU_Business A...</td>\n",
              "      <td>BUS_TM_PROSP_SU_Business Account-Only_BM</td>\n",
              "      <td>1</td>\n",
              "      <td>1</td>\n",
              "      <td>0</td>\n",
              "    </tr>\n",
              "    <tr>\n",
              "      <th>6</th>\n",
              "      <td>2021-02-19</td>\n",
              "      <td>Dummy1</td>\n",
              "      <td>103319.0</td>\n",
              "      <td>113155</td>\n",
              "      <td>us</td>\n",
              "      <td>#</td>\n",
              "      <td>Mobile Phone</td>\n",
              "      <td>https://9cf0ea0a913e7180781ced518eb19939.safef...</td>\n",
              "      <td>3</td>\n",
              "      <td>Banner</td>\n",
              "      <td>paid</td>\n",
              "      <td>Streamline_Operations</td>\n",
              "      <td>a300x250</td>\n",
              "      <td>1</td>\n",
              "      <td>1</td>\n",
              "      <td>0</td>\n",
              "    </tr>\n",
              "  </tbody>\n",
              "</table>\n",
              "</div>"
            ],
            "text/plain": [
              "     evnt_dt page_name  ...  Impressions  Total_Clicks\n",
              "0 2021-02-20    Dummy1  ...            1             0\n",
              "1 2021-02-19    Dummy2  ...            1             0\n",
              "4 2021-02-20    Dummy5  ...           14             0\n",
              "5 2021-02-20    Dummy6  ...            1             0\n",
              "6 2021-02-19    Dummy1  ...            1             0\n",
              "\n",
              "[5 rows x 16 columns]"
            ]
          },
          "metadata": {
            "tags": []
          },
          "execution_count": 158
        }
      ]
    },
    {
      "cell_type": "markdown",
      "metadata": {
        "id": "Tq7dbNMAEfQT"
      },
      "source": [
        "Suppose in our data **Anomalies** will be there like int in str. So we will write a function to remove the **Anomalies**\n",
        "\n",
        "\n",
        "Ex- **5th Row** and  **5th column** (**page_country**)"
      ]
    },
    {
      "cell_type": "code",
      "metadata": {
        "colab": {
          "base_uri": "https://localhost:8080/",
          "height": 299
        },
        "id": "lzFSBxIcE7Sm",
        "outputId": "4222a566-9710-480b-f4e3-83755f4108f0"
      },
      "source": [
        "df.head()"
      ],
      "execution_count": 146,
      "outputs": [
        {
          "output_type": "execute_result",
          "data": {
            "text/html": [
              "<div>\n",
              "<style scoped>\n",
              "    .dataframe tbody tr th:only-of-type {\n",
              "        vertical-align: middle;\n",
              "    }\n",
              "\n",
              "    .dataframe tbody tr th {\n",
              "        vertical-align: top;\n",
              "    }\n",
              "\n",
              "    .dataframe thead th {\n",
              "        text-align: right;\n",
              "    }\n",
              "</style>\n",
              "<table border=\"1\" class=\"dataframe\">\n",
              "  <thead>\n",
              "    <tr style=\"text-align: right;\">\n",
              "      <th></th>\n",
              "      <th>evnt_dt</th>\n",
              "      <th>page_name</th>\n",
              "      <th>EXPERIMENTATION_EXPERIENCE</th>\n",
              "      <th>EXPERIMENTATION_TREATMENT</th>\n",
              "      <th>page_country</th>\n",
              "      <th>link_name</th>\n",
              "      <th>devc_type</th>\n",
              "      <th>referring_url</th>\n",
              "      <th>evnt_page_url</th>\n",
              "      <th>utm_source</th>\n",
              "      <th>utm_medium</th>\n",
              "      <th>utm_campaign</th>\n",
              "      <th>utm_content</th>\n",
              "      <th>Sessions</th>\n",
              "      <th>Impressions</th>\n",
              "      <th>Total_Clicks</th>\n",
              "    </tr>\n",
              "  </thead>\n",
              "  <tbody>\n",
              "    <tr>\n",
              "      <th>0</th>\n",
              "      <td>2021-02-20</td>\n",
              "      <td>Dummy1</td>\n",
              "      <td>103319.0</td>\n",
              "      <td>113155</td>\n",
              "      <td>us</td>\n",
              "      <td>#</td>\n",
              "      <td>Mobile Phone</td>\n",
              "      <td>https://f9ef11867e527110601bc9d5cd456735.safef...</td>\n",
              "      <td>https://www.amazon.com/us/business</td>\n",
              "      <td>#</td>\n",
              "      <td>#</td>\n",
              "      <td>#</td>\n",
              "      <td>#</td>\n",
              "      <td>1</td>\n",
              "      <td>1</td>\n",
              "      <td>0</td>\n",
              "    </tr>\n",
              "    <tr>\n",
              "      <th>1</th>\n",
              "      <td>2021-02-19</td>\n",
              "      <td>Dummy2</td>\n",
              "      <td>103319.0</td>\n",
              "      <td>113154</td>\n",
              "      <td>us</td>\n",
              "      <td>#</td>\n",
              "      <td>Desktop</td>\n",
              "      <td>#</td>\n",
              "      <td>https://www.amazon.com/us/enterprise/streamlin...</td>\n",
              "      <td>Banner</td>\n",
              "      <td>paid</td>\n",
              "      <td>Streamline_Operations</td>\n",
              "      <td>b300x600</td>\n",
              "      <td>1</td>\n",
              "      <td>1</td>\n",
              "      <td>0</td>\n",
              "    </tr>\n",
              "    <tr>\n",
              "      <th>4</th>\n",
              "      <td>2021-02-20</td>\n",
              "      <td>Dummy5</td>\n",
              "      <td>103319.0</td>\n",
              "      <td>113155</td>\n",
              "      <td>us</td>\n",
              "      <td>#</td>\n",
              "      <td>Mobile Phone</td>\n",
              "      <td>https://en.kueez.com/</td>\n",
              "      <td>https://www.amazon.com/us/business/accept-paym...</td>\n",
              "      <td>#</td>\n",
              "      <td>#</td>\n",
              "      <td>#</td>\n",
              "      <td>#</td>\n",
              "      <td>14</td>\n",
              "      <td>14</td>\n",
              "      <td>0</td>\n",
              "    </tr>\n",
              "    <tr>\n",
              "      <th>5</th>\n",
              "      <td>2021-02-20</td>\n",
              "      <td>Dummy6</td>\n",
              "      <td>103319.0</td>\n",
              "      <td>113154</td>\n",
              "      <td>43</td>\n",
              "      <td>#</td>\n",
              "      <td>Mobile Phone</td>\n",
              "      <td>https://duckduckgo.com</td>\n",
              "      <td>https://www.amazon.com/business</td>\n",
              "      <td>bing</td>\n",
              "      <td>cpc</td>\n",
              "      <td>BUS_TM_PROSP_NA_US_EN_B_SEM_MERC_SU_Business A...</td>\n",
              "      <td>BUS_TM_PROSP_SU_Business Account-Only_BM</td>\n",
              "      <td>1</td>\n",
              "      <td>1</td>\n",
              "      <td>0</td>\n",
              "    </tr>\n",
              "    <tr>\n",
              "      <th>6</th>\n",
              "      <td>2021-02-19</td>\n",
              "      <td>Dummy1</td>\n",
              "      <td>103319.0</td>\n",
              "      <td>113155</td>\n",
              "      <td>us</td>\n",
              "      <td>#</td>\n",
              "      <td>Mobile Phone</td>\n",
              "      <td>https://9cf0ea0a913e7180781ced518eb19939.safef...</td>\n",
              "      <td>3</td>\n",
              "      <td>Banner</td>\n",
              "      <td>paid</td>\n",
              "      <td>Streamline_Operations</td>\n",
              "      <td>a300x250</td>\n",
              "      <td>1</td>\n",
              "      <td>1</td>\n",
              "      <td>0</td>\n",
              "    </tr>\n",
              "  </tbody>\n",
              "</table>\n",
              "</div>"
            ],
            "text/plain": [
              "     evnt_dt page_name  ...  Impressions  Total_Clicks\n",
              "0 2021-02-20    Dummy1  ...            1             0\n",
              "1 2021-02-19    Dummy2  ...            1             0\n",
              "4 2021-02-20    Dummy5  ...           14             0\n",
              "5 2021-02-20    Dummy6  ...            1             0\n",
              "6 2021-02-19    Dummy1  ...            1             0\n",
              "\n",
              "[5 rows x 16 columns]"
            ]
          },
          "metadata": {
            "tags": []
          },
          "execution_count": 146
        }
      ]
    },
    {
      "cell_type": "code",
      "metadata": {
        "id": "mUiM558k4wdw"
      },
      "source": [
        "def int_outlier_in_str(df_name,col):\n",
        "  for i in col:\n",
        "    df_name[i] = df_name[i].str.strip(string.digits)\n",
        "  return df_name"
      ],
      "execution_count": 166,
      "outputs": []
    },
    {
      "cell_type": "code",
      "metadata": {
        "colab": {
          "base_uri": "https://localhost:8080/",
          "height": 299
        },
        "id": "RpO8TxOn6Qlb",
        "outputId": "e4c4a926-333d-4be9-f96b-15bfee0494b2"
      },
      "source": [
        "col=['evnt_page_url','page_country']\n",
        "df=int_outlier_in_str(df,col)               # Remove int value from str columns\n",
        "df.head()"
      ],
      "execution_count": 167,
      "outputs": [
        {
          "output_type": "execute_result",
          "data": {
            "text/html": [
              "<div>\n",
              "<style scoped>\n",
              "    .dataframe tbody tr th:only-of-type {\n",
              "        vertical-align: middle;\n",
              "    }\n",
              "\n",
              "    .dataframe tbody tr th {\n",
              "        vertical-align: top;\n",
              "    }\n",
              "\n",
              "    .dataframe thead th {\n",
              "        text-align: right;\n",
              "    }\n",
              "</style>\n",
              "<table border=\"1\" class=\"dataframe\">\n",
              "  <thead>\n",
              "    <tr style=\"text-align: right;\">\n",
              "      <th></th>\n",
              "      <th>evnt_dt</th>\n",
              "      <th>page_name</th>\n",
              "      <th>EXPERIMENTATION_EXPERIENCE</th>\n",
              "      <th>EXPERIMENTATION_TREATMENT</th>\n",
              "      <th>page_country</th>\n",
              "      <th>link_name</th>\n",
              "      <th>devc_type</th>\n",
              "      <th>referring_url</th>\n",
              "      <th>evnt_page_url</th>\n",
              "      <th>utm_source</th>\n",
              "      <th>utm_medium</th>\n",
              "      <th>utm_campaign</th>\n",
              "      <th>utm_content</th>\n",
              "      <th>Sessions</th>\n",
              "      <th>Impressions</th>\n",
              "      <th>Total_Clicks</th>\n",
              "    </tr>\n",
              "  </thead>\n",
              "  <tbody>\n",
              "    <tr>\n",
              "      <th>0</th>\n",
              "      <td>2021-02-20</td>\n",
              "      <td>Dummy1</td>\n",
              "      <td>103319.0</td>\n",
              "      <td>113155</td>\n",
              "      <td>us</td>\n",
              "      <td>#</td>\n",
              "      <td>Mobile Phone</td>\n",
              "      <td>https://f9ef11867e527110601bc9d5cd456735.safef...</td>\n",
              "      <td>https://www.amazon.com/us/business</td>\n",
              "      <td>#</td>\n",
              "      <td>#</td>\n",
              "      <td>#</td>\n",
              "      <td>#</td>\n",
              "      <td>1</td>\n",
              "      <td>1</td>\n",
              "      <td>0</td>\n",
              "    </tr>\n",
              "    <tr>\n",
              "      <th>1</th>\n",
              "      <td>2021-02-19</td>\n",
              "      <td>Dummy2</td>\n",
              "      <td>103319.0</td>\n",
              "      <td>113154</td>\n",
              "      <td>us</td>\n",
              "      <td>#</td>\n",
              "      <td>Desktop</td>\n",
              "      <td>#</td>\n",
              "      <td>https://www.amazon.com/us/enterprise/streamlin...</td>\n",
              "      <td>Banner</td>\n",
              "      <td>paid</td>\n",
              "      <td>Streamline_Operations</td>\n",
              "      <td>b300x600</td>\n",
              "      <td>1</td>\n",
              "      <td>1</td>\n",
              "      <td>0</td>\n",
              "    </tr>\n",
              "    <tr>\n",
              "      <th>4</th>\n",
              "      <td>2021-02-20</td>\n",
              "      <td>Dummy5</td>\n",
              "      <td>103319.0</td>\n",
              "      <td>113155</td>\n",
              "      <td>us</td>\n",
              "      <td>#</td>\n",
              "      <td>Mobile Phone</td>\n",
              "      <td>https://en.kueez.com/</td>\n",
              "      <td>https://www.amazon.com/us/business/accept-paym...</td>\n",
              "      <td>#</td>\n",
              "      <td>#</td>\n",
              "      <td>#</td>\n",
              "      <td>#</td>\n",
              "      <td>14</td>\n",
              "      <td>14</td>\n",
              "      <td>0</td>\n",
              "    </tr>\n",
              "    <tr>\n",
              "      <th>5</th>\n",
              "      <td>2021-02-20</td>\n",
              "      <td>Dummy6</td>\n",
              "      <td>103319.0</td>\n",
              "      <td>113154</td>\n",
              "      <td>NaN</td>\n",
              "      <td>#</td>\n",
              "      <td>Mobile Phone</td>\n",
              "      <td>https://duckduckgo.com</td>\n",
              "      <td>https://www.amazon.com/business</td>\n",
              "      <td>bing</td>\n",
              "      <td>cpc</td>\n",
              "      <td>BUS_TM_PROSP_NA_US_EN_B_SEM_MERC_SU_Business A...</td>\n",
              "      <td>BUS_TM_PROSP_SU_Business Account-Only_BM</td>\n",
              "      <td>1</td>\n",
              "      <td>1</td>\n",
              "      <td>0</td>\n",
              "    </tr>\n",
              "    <tr>\n",
              "      <th>6</th>\n",
              "      <td>2021-02-19</td>\n",
              "      <td>Dummy1</td>\n",
              "      <td>103319.0</td>\n",
              "      <td>113155</td>\n",
              "      <td>us</td>\n",
              "      <td>#</td>\n",
              "      <td>Mobile Phone</td>\n",
              "      <td>https://9cf0ea0a913e7180781ced518eb19939.safef...</td>\n",
              "      <td>NaN</td>\n",
              "      <td>Banner</td>\n",
              "      <td>paid</td>\n",
              "      <td>Streamline_Operations</td>\n",
              "      <td>a300x250</td>\n",
              "      <td>1</td>\n",
              "      <td>1</td>\n",
              "      <td>0</td>\n",
              "    </tr>\n",
              "  </tbody>\n",
              "</table>\n",
              "</div>"
            ],
            "text/plain": [
              "     evnt_dt page_name  ...  Impressions  Total_Clicks\n",
              "0 2021-02-20    Dummy1  ...            1             0\n",
              "1 2021-02-19    Dummy2  ...            1             0\n",
              "4 2021-02-20    Dummy5  ...           14             0\n",
              "5 2021-02-20    Dummy6  ...            1             0\n",
              "6 2021-02-19    Dummy1  ...            1             0\n",
              "\n",
              "[5 rows x 16 columns]"
            ]
          },
          "metadata": {
            "tags": []
          },
          "execution_count": 167
        }
      ]
    },
    {
      "cell_type": "markdown",
      "metadata": {
        "id": "l0_M_vesFnbi"
      },
      "source": [
        "We will drop Nan values which are convert nan by removing anomalies"
      ]
    },
    {
      "cell_type": "code",
      "metadata": {
        "id": "jOD-WossFqzn"
      },
      "source": [
        "df=drop_nan(df)"
      ],
      "execution_count": 168,
      "outputs": []
    },
    {
      "cell_type": "markdown",
      "metadata": {
        "id": "07Uy6L9nFvWc"
      },
      "source": [
        "Suppose in our data **Anomalies** will be there like str in int. So we will write a function to remove the **Anomalies**\n",
        "\n",
        "As we dont have any columns like this so we will only write the function"
      ]
    },
    {
      "cell_type": "code",
      "metadata": {
        "id": "cn1OnZ9r5Ec-"
      },
      "source": [
        "def str_outlier_in_int(df_name,col):\n",
        "  for i in col:\n",
        "    df_name[i] = df_name[i].apply(pd.to_numeric, errors='coerce')\n",
        "  return df_name"
      ],
      "execution_count": 150,
      "outputs": []
    },
    {
      "cell_type": "markdown",
      "metadata": {
        "id": "wS2cYUc8hCnc"
      },
      "source": [
        "Now our Data Might have the outliers.So Inorder to detect and remove it will write a function.\n",
        "\n",
        "We will be using Interquartile Range (**IQR**)"
      ]
    },
    {
      "cell_type": "code",
      "metadata": {
        "id": "GEsqM9UHGwc-"
      },
      "source": [
        "def detection(df,features):\n",
        "    outlier_indices=[]\n",
        "    \n",
        "    for c in features:\n",
        "        \n",
        "        Q1 = np.percentile(df[c],25)\n",
        "        \n",
        "        \n",
        "        Q3 = np.percentile(df[c],75)\n",
        "        \n",
        "        \n",
        "        IQR = Q3 - Q1\n",
        "        outlier_step = IQR * 1.5\n",
        "        lower_range = Q1 - (outlier_step)\n",
        "        upper_range = Q3 + (outlier_step)\n",
        "        \n",
        "                                         \n",
        "        outlier_list_col=df[  (df[c] < lower_range) | (df[c] > upper_range)  ].index\n",
        "       \n",
        "        outlier_indices.extend(outlier_list_col)\n",
        "        \n",
        "    outlier_indices=Counter(outlier_indices)\n",
        "    multiple_outliers = list(i for i, v in outlier_indices.items() if v > 1 )\n",
        "    \n",
        "    \n",
        "    return multiple_outliers"
      ],
      "execution_count": null,
      "outputs": []
    },
    {
      "cell_type": "code",
      "metadata": {
        "id": "F_BLatOD7V55"
      },
      "source": [
        "num_col=['EXPERIMENTATION_EXPERIENCE','EXPERIMENTATION_TREATMENT','Sessions','Impressions']"
      ],
      "execution_count": null,
      "outputs": []
    },
    {
      "cell_type": "code",
      "metadata": {
        "id": "peyR9Tbo7R4V"
      },
      "source": [
        "new_df=df[num_col]"
      ],
      "execution_count": null,
      "outputs": []
    },
    {
      "cell_type": "code",
      "metadata": {
        "colab": {
          "base_uri": "https://localhost:8080/",
          "height": 166
        },
        "id": "Q7wZKr3P7sj_",
        "outputId": "7e6261e6-6e43-41dd-e321-d41c653c2444"
      },
      "source": [
        "new_df"
      ],
      "execution_count": null,
      "outputs": [
        {
          "output_type": "execute_result",
          "data": {
            "text/html": [
              "<div>\n",
              "<style scoped>\n",
              "    .dataframe tbody tr th:only-of-type {\n",
              "        vertical-align: middle;\n",
              "    }\n",
              "\n",
              "    .dataframe tbody tr th {\n",
              "        vertical-align: top;\n",
              "    }\n",
              "\n",
              "    .dataframe thead th {\n",
              "        text-align: right;\n",
              "    }\n",
              "</style>\n",
              "<table border=\"1\" class=\"dataframe\">\n",
              "  <thead>\n",
              "    <tr style=\"text-align: right;\">\n",
              "      <th></th>\n",
              "      <th>EXPERIMENTATION_EXPERIENCE</th>\n",
              "      <th>EXPERIMENTATION_TREATMENT</th>\n",
              "      <th>Sessions</th>\n",
              "      <th>Impressions</th>\n",
              "    </tr>\n",
              "  </thead>\n",
              "  <tbody>\n",
              "    <tr>\n",
              "      <th>0</th>\n",
              "      <td>103319.0</td>\n",
              "      <td>113155</td>\n",
              "      <td>1</td>\n",
              "      <td>1</td>\n",
              "    </tr>\n",
              "    <tr>\n",
              "      <th>1</th>\n",
              "      <td>103319.0</td>\n",
              "      <td>113154</td>\n",
              "      <td>1</td>\n",
              "      <td>1</td>\n",
              "    </tr>\n",
              "    <tr>\n",
              "      <th>4</th>\n",
              "      <td>103319.0</td>\n",
              "      <td>113155</td>\n",
              "      <td>14</td>\n",
              "      <td>14</td>\n",
              "    </tr>\n",
              "    <tr>\n",
              "      <th>8</th>\n",
              "      <td>103319.0</td>\n",
              "      <td>113155</td>\n",
              "      <td>1</td>\n",
              "      <td>1</td>\n",
              "    </tr>\n",
              "  </tbody>\n",
              "</table>\n",
              "</div>"
            ],
            "text/plain": [
              "   EXPERIMENTATION_EXPERIENCE  EXPERIMENTATION_TREATMENT  Sessions  Impressions\n",
              "0                    103319.0                     113155         1            1\n",
              "1                    103319.0                     113154         1            1\n",
              "4                    103319.0                     113155        14           14\n",
              "8                    103319.0                     113155         1            1"
            ]
          },
          "metadata": {
            "tags": []
          },
          "execution_count": 129
        }
      ]
    },
    {
      "cell_type": "code",
      "metadata": {
        "id": "37zkViBO77hd"
      },
      "source": [
        "outliers=detection(new_df,num_col)"
      ],
      "execution_count": null,
      "outputs": []
    },
    {
      "cell_type": "markdown",
      "metadata": {
        "id": "LDQaiI_cG2aN"
      },
      "source": [
        "Our **outlier** has been **detected** And we will be **removing** it."
      ]
    },
    {
      "cell_type": "code",
      "metadata": {
        "colab": {
          "base_uri": "https://localhost:8080/",
          "height": 114
        },
        "id": "4CEkuwtC8DFz",
        "outputId": "19ec9f3d-f846-459f-e87a-2b787c077e23"
      },
      "source": [
        "df.loc[outliers] "
      ],
      "execution_count": null,
      "outputs": [
        {
          "output_type": "execute_result",
          "data": {
            "text/html": [
              "<div>\n",
              "<style scoped>\n",
              "    .dataframe tbody tr th:only-of-type {\n",
              "        vertical-align: middle;\n",
              "    }\n",
              "\n",
              "    .dataframe tbody tr th {\n",
              "        vertical-align: top;\n",
              "    }\n",
              "\n",
              "    .dataframe thead th {\n",
              "        text-align: right;\n",
              "    }\n",
              "</style>\n",
              "<table border=\"1\" class=\"dataframe\">\n",
              "  <thead>\n",
              "    <tr style=\"text-align: right;\">\n",
              "      <th></th>\n",
              "      <th>evnt_dt</th>\n",
              "      <th>page_name</th>\n",
              "      <th>EXPERIMENTATION_EXPERIENCE</th>\n",
              "      <th>EXPERIMENTATION_TREATMENT</th>\n",
              "      <th>page_country</th>\n",
              "      <th>link_name</th>\n",
              "      <th>devc_type</th>\n",
              "      <th>referring_url</th>\n",
              "      <th>evnt_page_url</th>\n",
              "      <th>utm_source</th>\n",
              "      <th>utm_medium</th>\n",
              "      <th>utm_campaign</th>\n",
              "      <th>utm_content</th>\n",
              "      <th>Sessions</th>\n",
              "      <th>Impressions</th>\n",
              "      <th>Total_Clicks</th>\n",
              "    </tr>\n",
              "  </thead>\n",
              "  <tbody>\n",
              "    <tr>\n",
              "      <th>4</th>\n",
              "      <td>2021-02-20</td>\n",
              "      <td>Dummy5</td>\n",
              "      <td>103319.0</td>\n",
              "      <td>113155</td>\n",
              "      <td>us</td>\n",
              "      <td>#</td>\n",
              "      <td>Mobile Phone</td>\n",
              "      <td>https://en.kueez.com/</td>\n",
              "      <td>https://www.amazon.com/us/business/accept-paym...</td>\n",
              "      <td>#</td>\n",
              "      <td>#</td>\n",
              "      <td>#</td>\n",
              "      <td>#</td>\n",
              "      <td>14</td>\n",
              "      <td>14</td>\n",
              "      <td>0</td>\n",
              "    </tr>\n",
              "  </tbody>\n",
              "</table>\n",
              "</div>"
            ],
            "text/plain": [
              "     evnt_dt page_name  ...  Impressions  Total_Clicks\n",
              "4 2021-02-20    Dummy5  ...           14             0\n",
              "\n",
              "[1 rows x 16 columns]"
            ]
          },
          "metadata": {
            "tags": []
          },
          "execution_count": 134
        }
      ]
    },
    {
      "cell_type": "code",
      "metadata": {
        "id": "ph8pIOVG8PGe"
      },
      "source": [
        "df=df.drop(outliers,axis=0).reset_index(drop = True)"
      ],
      "execution_count": null,
      "outputs": []
    },
    {
      "cell_type": "code",
      "metadata": {
        "id": "xi2gCoEe8Y4A"
      },
      "source": [
        "  "
      ],
      "execution_count": null,
      "outputs": []
    },
    {
      "cell_type": "markdown",
      "metadata": {
        "id": "OpySYypN9Is8"
      },
      "source": [
        "***2. Visualization***"
      ]
    },
    {
      "cell_type": "markdown",
      "metadata": {
        "id": "0u55aO5HVxnT"
      },
      "source": [
        " As here the data is in small amount so we will basically plot only the plots of same kind"
      ]
    },
    {
      "cell_type": "code",
      "metadata": {
        "id": "xuskkHJSVxqD"
      },
      "source": [
        ""
      ],
      "execution_count": null,
      "outputs": []
    },
    {
      "cell_type": "code",
      "metadata": {
        "id": "P8F18D-HVxsY"
      },
      "source": [
        ""
      ],
      "execution_count": null,
      "outputs": []
    },
    {
      "cell_type": "code",
      "metadata": {
        "id": "uPvaYUPVVxvT"
      },
      "source": [
        ""
      ],
      "execution_count": null,
      "outputs": []
    },
    {
      "cell_type": "code",
      "metadata": {
        "colab": {
          "base_uri": "https://localhost:8080/",
          "height": 299
        },
        "id": "Eu7pWgFn9L0J",
        "outputId": "78614728-de2d-4e29-dfe4-80a53d04b8a3"
      },
      "source": [
        "df.head()"
      ],
      "execution_count": 161,
      "outputs": [
        {
          "output_type": "execute_result",
          "data": {
            "text/html": [
              "<div>\n",
              "<style scoped>\n",
              "    .dataframe tbody tr th:only-of-type {\n",
              "        vertical-align: middle;\n",
              "    }\n",
              "\n",
              "    .dataframe tbody tr th {\n",
              "        vertical-align: top;\n",
              "    }\n",
              "\n",
              "    .dataframe thead th {\n",
              "        text-align: right;\n",
              "    }\n",
              "</style>\n",
              "<table border=\"1\" class=\"dataframe\">\n",
              "  <thead>\n",
              "    <tr style=\"text-align: right;\">\n",
              "      <th></th>\n",
              "      <th>evnt_dt</th>\n",
              "      <th>page_name</th>\n",
              "      <th>EXPERIMENTATION_EXPERIENCE</th>\n",
              "      <th>EXPERIMENTATION_TREATMENT</th>\n",
              "      <th>page_country</th>\n",
              "      <th>link_name</th>\n",
              "      <th>devc_type</th>\n",
              "      <th>referring_url</th>\n",
              "      <th>evnt_page_url</th>\n",
              "      <th>utm_source</th>\n",
              "      <th>utm_medium</th>\n",
              "      <th>utm_campaign</th>\n",
              "      <th>utm_content</th>\n",
              "      <th>Sessions</th>\n",
              "      <th>Impressions</th>\n",
              "      <th>Total_Clicks</th>\n",
              "    </tr>\n",
              "  </thead>\n",
              "  <tbody>\n",
              "    <tr>\n",
              "      <th>0</th>\n",
              "      <td>2021-02-20</td>\n",
              "      <td>Dummy1</td>\n",
              "      <td>103319.0</td>\n",
              "      <td>113155</td>\n",
              "      <td>us</td>\n",
              "      <td>#</td>\n",
              "      <td>Mobile Phone</td>\n",
              "      <td>https://f9ef11867e527110601bc9d5cd456735.safef...</td>\n",
              "      <td>https://www.amazon.com/us/business</td>\n",
              "      <td>#</td>\n",
              "      <td>#</td>\n",
              "      <td>#</td>\n",
              "      <td>#</td>\n",
              "      <td>1</td>\n",
              "      <td>1</td>\n",
              "      <td>0</td>\n",
              "    </tr>\n",
              "    <tr>\n",
              "      <th>1</th>\n",
              "      <td>2021-02-19</td>\n",
              "      <td>Dummy2</td>\n",
              "      <td>103319.0</td>\n",
              "      <td>113154</td>\n",
              "      <td>us</td>\n",
              "      <td>#</td>\n",
              "      <td>Desktop</td>\n",
              "      <td>#</td>\n",
              "      <td>https://www.amazon.com/us/enterprise/streamlin...</td>\n",
              "      <td>Banner</td>\n",
              "      <td>paid</td>\n",
              "      <td>Streamline_Operations</td>\n",
              "      <td>b300x600</td>\n",
              "      <td>1</td>\n",
              "      <td>1</td>\n",
              "      <td>0</td>\n",
              "    </tr>\n",
              "    <tr>\n",
              "      <th>4</th>\n",
              "      <td>2021-02-20</td>\n",
              "      <td>Dummy5</td>\n",
              "      <td>103319.0</td>\n",
              "      <td>113155</td>\n",
              "      <td>us</td>\n",
              "      <td>#</td>\n",
              "      <td>Mobile Phone</td>\n",
              "      <td>https://en.kueez.com/</td>\n",
              "      <td>https://www.amazon.com/us/business/accept-paym...</td>\n",
              "      <td>#</td>\n",
              "      <td>#</td>\n",
              "      <td>#</td>\n",
              "      <td>#</td>\n",
              "      <td>14</td>\n",
              "      <td>14</td>\n",
              "      <td>0</td>\n",
              "    </tr>\n",
              "    <tr>\n",
              "      <th>5</th>\n",
              "      <td>2021-02-20</td>\n",
              "      <td>Dummy6</td>\n",
              "      <td>103319.0</td>\n",
              "      <td>113154</td>\n",
              "      <td>43</td>\n",
              "      <td>#</td>\n",
              "      <td>Mobile Phone</td>\n",
              "      <td>https://duckduckgo.com</td>\n",
              "      <td>https://www.amazon.com/business</td>\n",
              "      <td>bing</td>\n",
              "      <td>cpc</td>\n",
              "      <td>BUS_TM_PROSP_NA_US_EN_B_SEM_MERC_SU_Business A...</td>\n",
              "      <td>BUS_TM_PROSP_SU_Business Account-Only_BM</td>\n",
              "      <td>1</td>\n",
              "      <td>1</td>\n",
              "      <td>0</td>\n",
              "    </tr>\n",
              "    <tr>\n",
              "      <th>6</th>\n",
              "      <td>2021-02-19</td>\n",
              "      <td>Dummy1</td>\n",
              "      <td>103319.0</td>\n",
              "      <td>113155</td>\n",
              "      <td>us</td>\n",
              "      <td>#</td>\n",
              "      <td>Mobile Phone</td>\n",
              "      <td>https://9cf0ea0a913e7180781ced518eb19939.safef...</td>\n",
              "      <td>3</td>\n",
              "      <td>Banner</td>\n",
              "      <td>paid</td>\n",
              "      <td>Streamline_Operations</td>\n",
              "      <td>a300x250</td>\n",
              "      <td>1</td>\n",
              "      <td>1</td>\n",
              "      <td>0</td>\n",
              "    </tr>\n",
              "  </tbody>\n",
              "</table>\n",
              "</div>"
            ],
            "text/plain": [
              "     evnt_dt page_name  ...  Impressions  Total_Clicks\n",
              "0 2021-02-20    Dummy1  ...            1             0\n",
              "1 2021-02-19    Dummy2  ...            1             0\n",
              "4 2021-02-20    Dummy5  ...           14             0\n",
              "5 2021-02-20    Dummy6  ...            1             0\n",
              "6 2021-02-19    Dummy1  ...            1             0\n",
              "\n",
              "[5 rows x 16 columns]"
            ]
          },
          "metadata": {
            "tags": []
          },
          "execution_count": 161
        }
      ]
    },
    {
      "cell_type": "markdown",
      "metadata": {
        "id": "TYoalF2-WpnZ"
      },
      "source": [
        "This will give us details of the ***evnt_dt***"
      ]
    },
    {
      "cell_type": "code",
      "metadata": {
        "colab": {
          "base_uri": "https://localhost:8080/"
        },
        "id": "1uh8Ehj99OCg",
        "outputId": "112d5e70-a6d2-4e1a-8b14-2e2c1c1fbc63"
      },
      "source": [
        "df.evnt_dt.describe()"
      ],
      "execution_count": 163,
      "outputs": [
        {
          "output_type": "stream",
          "text": [
            "/usr/local/lib/python3.7/dist-packages/ipykernel_launcher.py:1: FutureWarning: Treating datetime data as categorical rather than numeric in `.describe` is deprecated and will be removed in a future version of pandas. Specify `datetime_is_numeric=True` to silence this warning and adopt the future behavior now.\n",
            "  \"\"\"Entry point for launching an IPython kernel.\n"
          ],
          "name": "stderr"
        },
        {
          "output_type": "execute_result",
          "data": {
            "text/plain": [
              "count                       7\n",
              "unique                      2\n",
              "top       2021-02-20 00:00:00\n",
              "freq                        5\n",
              "first     2021-02-19 00:00:00\n",
              "last      2021-02-20 00:00:00\n",
              "Name: evnt_dt, dtype: object"
            ]
          },
          "metadata": {
            "tags": []
          },
          "execution_count": 163
        }
      ]
    },
    {
      "cell_type": "markdown",
      "metadata": {
        "id": "XS_4fhWAW9Yk"
      },
      "source": [
        "This will give us details of the ***page_name***"
      ]
    },
    {
      "cell_type": "code",
      "metadata": {
        "colab": {
          "base_uri": "https://localhost:8080/"
        },
        "id": "4jxdvRnN9tuh",
        "outputId": "d2235764-3bca-4cec-9f97-81ba88546120"
      },
      "source": [
        "df.page_name.unique()"
      ],
      "execution_count": null,
      "outputs": [
        {
          "output_type": "execute_result",
          "data": {
            "text/plain": [
              "array(['Dummy1', 'Dummy2', 'Dummy6', 'Dummy3'], dtype=object)"
            ]
          },
          "metadata": {
            "tags": []
          },
          "execution_count": 74
        }
      ]
    },
    {
      "cell_type": "code",
      "metadata": {
        "colab": {
          "base_uri": "https://localhost:8080/",
          "height": 647
        },
        "id": "0WGG-ORS-KDV",
        "outputId": "ae8443e9-09b6-48df-f987-ae15c56e0bb8"
      },
      "source": [
        "plt.figure(figsize=(20,10))\n",
        "df.page_name.value_counts().plot.bar()\n",
        "plt.show()"
      ],
      "execution_count": null,
      "outputs": [
        {
          "output_type": "display_data",
          "data": {
            "image/png": "[encoded data removed]",
            "text/plain": [
              "<Figure size 1440x720 with 1 Axes>"
            ]
          },
          "metadata": {
            "tags": [],
            "needs_background": "light"
          }
        }
      ]
    },
    {
      "cell_type": "markdown",
      "metadata": {
        "id": "yjbvz_pQXHGs"
      },
      "source": [
        "This will give us details of the ***EXPERIMENTATION_EXPERIENCE***\n",
        "\n",
        "Here only **103319.0** is only used."
      ]
    },
    {
      "cell_type": "code",
      "metadata": {
        "colab": {
          "base_uri": "https://localhost:8080/",
          "height": 649
        },
        "id": "Q20Fqb32-VDZ",
        "outputId": "ad8172f4-d0c8-483c-96a8-61858f0c8d84"
      },
      "source": [
        "plt.figure(figsize=(20,10))\n",
        "df.EXPERIMENTATION_EXPERIENCE.value_counts().plot.bar()\n",
        "plt.show()"
      ],
      "execution_count": null,
      "outputs": [
        {
          "output_type": "display_data",
          "data": {
            "image/png": "[encoded data removed]",
            "text/plain": [
              "<Figure size 1440x720 with 1 Axes>"
            ]
          },
          "metadata": {
            "tags": [],
            "needs_background": "light"
          }
        }
      ]
    },
    {
      "cell_type": "markdown",
      "metadata": {
        "id": "OYDcGjUaXaow"
      },
      "source": [
        "This will give us details of the EXPERIMENTATION_TREATMENT\n",
        "\n",
        "Here two values are ony used :\n",
        "\n",
        "1.   **113155**\n",
        "2.   **113154**\n",
        "\n"
      ]
    },
    {
      "cell_type": "code",
      "metadata": {
        "colab": {
          "base_uri": "https://localhost:8080/",
          "height": 599
        },
        "id": "b7CbeSTC_PBf",
        "outputId": "635d8b65-54dd-4f17-f33c-b9fc3bea9444"
      },
      "source": [
        "plt.figure(figsize=(20,10))\n",
        "df.EXPERIMENTATION_TREATMENT.value_counts().plot.bar()\n",
        "plt.show()"
      ],
      "execution_count": null,
      "outputs": [
        {
          "output_type": "display_data",
          "data": {
            "image/png": "[encoded data removed]",
            "text/plain": [
              "<Figure size 1440x720 with 1 Axes>"
            ]
          },
          "metadata": {
            "tags": [],
            "needs_background": "light"
          }
        }
      ]
    },
    {
      "cell_type": "markdown",
      "metadata": {
        "id": "y-NWFcalX2V8"
      },
      "source": [
        "This will give us details of the ***page_country***\n",
        "\n",
        "Here only **us** is used.\n",
        "\n"
      ]
    },
    {
      "cell_type": "code",
      "metadata": {
        "id": "OW9n2aPC_apI"
      },
      "source": [
        "page=df.page_country.dropna()"
      ],
      "execution_count": 169,
      "outputs": []
    },
    {
      "cell_type": "code",
      "metadata": {
        "colab": {
          "base_uri": "https://localhost:8080/",
          "height": 574
        },
        "id": "3psFnNej_gIG",
        "outputId": "20ee7f2f-eaa1-4d9e-eb3d-05096774f397"
      },
      "source": [
        "plt.figure(figsize=(20,10))\n",
        "page.value_counts().plot.bar()\n",
        "plt.show()"
      ],
      "execution_count": 170,
      "outputs": [
        {
          "output_type": "display_data",
          "data": {
            "image/png": "[encoded data removed]",
            "text/plain": [
              "<Figure size 1440x720 with 1 Axes>"
            ]
          },
          "metadata": {
            "tags": [],
            "needs_background": "light"
          }
        }
      ]
    },
    {
      "cell_type": "markdown",
      "metadata": {
        "id": "LqsigsXVYhJS"
      },
      "source": [
        "This will give us details of the ***devc_type***\n",
        "\n",
        "Here two values are ony used :\n",
        "\n",
        "\n",
        "\n",
        "1.   **Mobile Phone** -- Most users use Mobile Phone\n",
        "2.   **Desktop** \n",
        "\n"
      ]
    },
    {
      "cell_type": "code",
      "metadata": {
        "colab": {
          "base_uri": "https://localhost:8080/",
          "height": 668
        },
        "id": "pX5kinIT_kg5",
        "outputId": "0b8d7611-a1d3-4011-a599-dbc007b1edca"
      },
      "source": [
        "plt.figure(figsize=(20,10))\n",
        "df.devc_type.value_counts().plot.bar()\n",
        "plt.show()"
      ],
      "execution_count": null,
      "outputs": [
        {
          "output_type": "display_data",
          "data": {
            "image/png": "[encoded data removed]",
            "text/plain": [
              "<Figure size 1440x720 with 1 Axes>"
            ]
          },
          "metadata": {
            "tags": [],
            "needs_background": "light"
          }
        }
      ]
    },
    {
      "cell_type": "markdown",
      "metadata": {
        "id": "8FOqSR48ZG6w"
      },
      "source": [
        "This will give us details of the ***utm_source***\n",
        "\n",
        "Here two values are ony used :\n",
        "\n",
        "\n",
        "1. **Banner**\n",
        "2. **Native** \n",
        "\n",
        " \n",
        "**#** is not a category\n"
      ]
    },
    {
      "cell_type": "code",
      "metadata": {
        "colab": {
          "base_uri": "https://localhost:8080/"
        },
        "id": "7nUg7p4GZA5A",
        "outputId": "0f58a76a-cde9-4d02-b5fd-95cff006261d"
      },
      "source": [
        "df.utm_source.unique()"
      ],
      "execution_count": 171,
      "outputs": [
        {
          "output_type": "execute_result",
          "data": {
            "text/plain": [
              "array(['#', 'Banner', 'Native'], dtype=object)"
            ]
          },
          "metadata": {
            "tags": []
          },
          "execution_count": 171
        }
      ]
    },
    {
      "cell_type": "code",
      "metadata": {
        "colab": {
          "base_uri": "https://localhost:8080/",
          "height": 594
        },
        "id": "QdinkXCw_sDx",
        "outputId": "d42dae72-5d5c-48b9-ec27-6f65efd7bf76"
      },
      "source": [
        "plt.figure(figsize=(20,10))\n",
        "df.utm_source.value_counts().plot.bar()\n",
        "plt.show()"
      ],
      "execution_count": 172,
      "outputs": [
        {
          "output_type": "display_data",
          "data": {
            "image/png": "[encoded data removed]",
            "text/plain": [
              "<Figure size 1440x720 with 1 Axes>"
            ]
          },
          "metadata": {
            "tags": [],
            "needs_background": "light"
          }
        }
      ]
    },
    {
      "cell_type": "markdown",
      "metadata": {
        "id": "kpeFv2EycTK2"
      },
      "source": [
        "This will give us details of the ***utm_medium***\n",
        "\n",
        "Here two values are ony used :\n",
        "\n",
        "\n",
        "1. **Email**\n",
        "2. **Cpc**\n",
        "3. **Paid** \n",
        "\n",
        " \n",
        "**#** is not a category"
      ]
    },
    {
      "cell_type": "code",
      "metadata": {
        "colab": {
          "base_uri": "https://localhost:8080/",
          "height": 629
        },
        "id": "KEUXgrNQAD32",
        "outputId": "b7563d5c-e6c5-4c1d-b376-730ff37a5f3e"
      },
      "source": [
        "plt.figure(figsize=(20,10))\n",
        "df.utm_medium.value_counts().plot.bar()\n",
        "plt.show()"
      ],
      "execution_count": 178,
      "outputs": [
        {
          "output_type": "display_data",
          "data": {
            "image/png": "[encoded data removed]",
            "text/plain": [
              "<Figure size 1440x720 with 1 Axes>"
            ]
          },
          "metadata": {
            "tags": [],
            "needs_background": "light"
          }
        }
      ]
    },
    {
      "cell_type": "markdown",
      "metadata": {
        "id": "vdTlax7Tcxnf"
      },
      "source": [
        "This will give us details of the ***Sessions***\n",
        "\n",
        "only **1** is the value used."
      ]
    },
    {
      "cell_type": "code",
      "metadata": {
        "colab": {
          "base_uri": "https://localhost:8080/",
          "height": 574
        },
        "id": "lp1AfqkmAToM",
        "outputId": "cd88b44d-80c5-4afb-83e3-349125a6a25d"
      },
      "source": [
        "plt.figure(figsize=(20,10))\n",
        "df.Sessions.value_counts().plot.bar()\n",
        "plt.show()"
      ],
      "execution_count": null,
      "outputs": [
        {
          "output_type": "display_data",
          "data": {
            "image/png": "[encoded data removed]",
            "text/plain": [
              "<Figure size 1440x720 with 1 Axes>"
            ]
          },
          "metadata": {
            "tags": [],
            "needs_background": "light"
          }
        }
      ]
    },
    {
      "cell_type": "markdown",
      "metadata": {
        "id": "_wWWfB66c82n"
      },
      "source": [
        "This will give us details of the ***Impressions***\n",
        "\n",
        "only **1** is the value used."
      ]
    },
    {
      "cell_type": "code",
      "metadata": {
        "colab": {
          "base_uri": "https://localhost:8080/",
          "height": 574
        },
        "id": "B9NEU-hEAZ3H",
        "outputId": "f3a0ca8f-ccab-4095-f649-4e13972df412"
      },
      "source": [
        "plt.figure(figsize=(20,10))\n",
        "df.Impressions.value_counts().plot.bar()\n",
        "plt.show()"
      ],
      "execution_count": null,
      "outputs": [
        {
          "output_type": "display_data",
          "data": {
            "image/png": "[encoded data removed]",
            "text/plain": [
              "<Figure size 1440x720 with 1 Axes>"
            ]
          },
          "metadata": {
            "tags": [],
            "needs_background": "light"
          }
        }
      ]
    },
    {
      "cell_type": "markdown",
      "metadata": {
        "id": "GF4ngjuHdA6b"
      },
      "source": [
        "This will give us details of the ***Total_Clicks***\n",
        "\n",
        "only **0** is the value used."
      ]
    },
    {
      "cell_type": "code",
      "metadata": {
        "colab": {
          "base_uri": "https://localhost:8080/",
          "height": 574
        },
        "id": "bGXbBY85AfAv",
        "outputId": "62898e19-5acd-494f-a317-49fb063a8a53"
      },
      "source": [
        "plt.figure(figsize=(20,10))\n",
        "df.Total_Clicks.value_counts().plot.bar()\n",
        "plt.show()"
      ],
      "execution_count": null,
      "outputs": [
        {
          "output_type": "display_data",
          "data": {
            "image/png": "[encoded data removed]",
            "text/plain": [
              "<Figure size 1440x720 with 1 Axes>"
            ]
          },
          "metadata": {
            "tags": [],
            "needs_background": "light"
          }
        }
      ]
    },
    {
      "cell_type": "markdown",
      "metadata": {
        "id": "hm6z88zndG-I"
      },
      "source": [
        "This will give us details of the ***link_name***"
      ]
    },
    {
      "cell_type": "code",
      "metadata": {
        "colab": {
          "base_uri": "https://localhost:8080/",
          "height": 774
        },
        "id": "crul9veOCgBj",
        "outputId": "df40a5f6-bc4f-4870-8bce-51be0a7e82e9"
      },
      "source": [
        "plt.figure(figsize=(20,10))\n",
        "df.link_name.value_counts().plot.bar()\n",
        "plt.show()\n"
      ],
      "execution_count": null,
      "outputs": [
        {
          "output_type": "display_data",
          "data": {
            "image/png": "[encoded data removed]",
            "text/plain": [
              "<Figure size 1440x720 with 1 Axes>"
            ]
          },
          "metadata": {
            "tags": [],
            "needs_background": "light"
          }
        }
      ]
    },
    {
      "cell_type": "markdown",
      "metadata": {
        "id": "bgxxcqjBdUv7"
      },
      "source": [
        "This will give us details of the ***referring_url***"
      ]
    },
    {
      "cell_type": "code",
      "metadata": {
        "colab": {
          "base_uri": "https://localhost:8080/",
          "height": 1000
        },
        "id": "3TCEvmsBCxvE",
        "outputId": "7050578a-6a32-4b8d-a31d-0d024100f0a3"
      },
      "source": [
        "plt.figure(figsize=(20,10))\n",
        "df.referring_url.value_counts().plot.bar()\n",
        "plt.show()\n"
      ],
      "execution_count": null,
      "outputs": [
        {
          "output_type": "display_data",
          "data": {
            "image/png": "[encoded data removed]",
            "text/plain": [
              "<Figure size 1440x720 with 1 Axes>"
            ]
          },
          "metadata": {
            "tags": [],
            "needs_background": "light"
          }
        }
      ]
    },
    {
      "cell_type": "markdown",
      "metadata": {
        "id": "cMYLDzW_dft-"
      },
      "source": [
        "This will give us details of the ***evnt_page_url***"
      ]
    },
    {
      "cell_type": "code",
      "metadata": {
        "colab": {
          "base_uri": "https://localhost:8080/",
          "height": 861
        },
        "id": "m_UKtbM5CzcH",
        "outputId": "0777cde5-0975-451d-b759-1f8fdd46c009"
      },
      "source": [
        "plt.figure(figsize=(20,10))\n",
        "df.evnt_page_url.value_counts().plot.bar()\n",
        "plt.show()\n"
      ],
      "execution_count": null,
      "outputs": [
        {
          "output_type": "display_data",
          "data": {
            "image/png": "[encoded data removed]",
            "text/plain": [
              "<Figure size 1440x720 with 1 Axes>"
            ]
          },
          "metadata": {
            "tags": [],
            "needs_background": "light"
          }
        }
      ]
    },
    {
      "cell_type": "markdown",
      "metadata": {
        "id": "dGREGfsodkzE"
      },
      "source": [
        "This will give us details of the ***utm_campaign***"
      ]
    },
    {
      "cell_type": "code",
      "metadata": {
        "colab": {
          "base_uri": "https://localhost:8080/",
          "height": 864
        },
        "id": "OVxdQKr7C012",
        "outputId": "58a111eb-c577-4382-e400-9de4741efa07"
      },
      "source": [
        "plt.figure(figsize=(20,10))\n",
        "df.utm_campaign.value_counts().plot.bar()\n",
        "plt.show()\n"
      ],
      "execution_count": null,
      "outputs": [
        {
          "output_type": "display_data",
          "data": {
            "image/png": "[encoded data removed]",
            "text/plain": [
              "<Figure size 1440x720 with 1 Axes>"
            ]
          },
          "metadata": {
            "tags": [],
            "needs_background": "light"
          }
        }
      ]
    },
    {
      "cell_type": "markdown",
      "metadata": {
        "id": "rnUf5ElPdpnS"
      },
      "source": [
        "This will give us details of the ***utm_content***"
      ]
    },
    {
      "cell_type": "code",
      "metadata": {
        "colab": {
          "base_uri": "https://localhost:8080/",
          "height": 786
        },
        "id": "O83HYRe_C11B",
        "outputId": "8b5c9edc-63d8-47a9-c55f-d67cba49bbbd"
      },
      "source": [
        "\n",
        "plt.figure(figsize=(20,10))\n",
        "df.utm_content.value_counts().plot.bar()\n",
        "plt.show()"
      ],
      "execution_count": null,
      "outputs": [
        {
          "output_type": "display_data",
          "data": {
            "image/png": "[encoded data removed]",
            "text/plain": [
              "<Figure size 1440x720 with 1 Axes>"
            ]
          },
          "metadata": {
            "tags": [],
            "needs_background": "light"
          }
        }
      ]
    },
    {
      "cell_type": "code",
      "metadata": {
        "id": "Ae9YxBV1C2O9"
      },
      "source": [
        ""
      ],
      "execution_count": null,
      "outputs": []
    }
  ]
}